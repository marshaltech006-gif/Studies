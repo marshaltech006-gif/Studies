{
 "cells": [
  {
   "cell_type": "code",
   "execution_count": 1,
   "id": "63343d96",
   "metadata": {},
   "outputs": [],
   "source": [
    "import pandas as pd\n",
    "\n"
   ]
  },
  {
   "cell_type": "code",
   "execution_count": null,
   "id": "6866d9bf",
   "metadata": {},
   "outputs": [],
   "source": [
    "lst = ['hey', 'there', 'how', 'are', 'you']\n",
    "\n",
    "df = pd.data_frame.DataFrame(lst)\n",
    "print(df)\n"
   ]
  }
 ],
 "metadata": {
  "kernelspec": {
   "display_name": ".venv",
   "language": "python",
   "name": "python3"
  },
  "language_info": {
   "codemirror_mode": {
    "name": "ipython",
    "version": 3
   },
   "file_extension": ".py",
   "mimetype": "text/x-python",
   "name": "python",
   "nbconvert_exporter": "python",
   "pygments_lexer": "ipython3",
   "version": "3.12.10"
  }
 },
 "nbformat": 4,
 "nbformat_minor": 5
}
