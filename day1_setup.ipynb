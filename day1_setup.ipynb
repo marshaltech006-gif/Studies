{
 "cells": [
  {
   "cell_type": "code",
   "execution_count": 1,
   "id": "8c63e1c9",
   "metadata": {},
   "outputs": [
    {
     "name": "stdout",
     "output_type": "stream",
     "text": [
      "VS Code AI/ML Environment Ready!\n"
     ]
    }
   ],
   "source": [
    "import numpy as np\n",
    "import pandas as pd\n",
    "import matplotlib.pyplot as plt\n",
    "\n",
    "print(\"VS Code AI/ML Environment Ready!\")\n"
   ]
  },
  {
   "cell_type": "code",
   "execution_count": 2,
   "id": "8d2c92eb",
   "metadata": {},
   "outputs": [
    {
     "name": "stdout",
     "output_type": "stream",
     "text": [
      "<class 'str'> <class 'int'> <class 'float'> <class 'bool'>\n"
     ]
    }
   ],
   "source": [
    "# Variables\n",
    "name = \"Marshal\"\n",
    "age = 20\n",
    "height = 5.9\n",
    "is_student = True\n",
    "\n",
    "print(type(name), type(age), type(height), type(is_student))\n"
   ]
  },
  {
   "cell_type": "code",
   "execution_count": 3,
   "id": "3838a980",
   "metadata": {},
   "outputs": [
    {
     "name": "stdout",
     "output_type": "stream",
     "text": [
      "apple\n",
      "20.3\n",
      "['Python', 'ML']\n"
     ]
    }
   ],
   "source": [
    "# List\n",
    "fruits = [\"apple\", \"banana\", \"cherry\"]\n",
    "print(fruits[0])  # apple\n",
    "\n",
    "# Tuple (immutable list)\n",
    "coordinates = (10.5, 20.3)\n",
    "print(coordinates[1])  # 20.3\n",
    "\n",
    "# Dictionary (key-value pair)\n",
    "person = {\"name\": \"Marshal\", \"age\": 20, \"skills\": [\"Python\", \"ML\"]}\n",
    "print(person[\"skills\"])\n",
    "\n"
   ]
  },
  {
   "cell_type": "code",
   "execution_count": 4,
   "id": "abb4d612",
   "metadata": {},
   "outputs": [
    {
     "name": "stdout",
     "output_type": "stream",
     "text": [
      "APPLE\n",
      "BANANA\n",
      "CHERRY\n",
      "Count is: 0\n",
      "Count is: 1\n",
      "Count is: 2\n"
     ]
    }
   ],
   "source": [
    "for fruit in fruits:\n",
    "    print(fruit.upper())\n",
    "\n",
    "count = 0\n",
    "while count < 3:\n",
    "    print(\"Count is:\", count)\n",
    "    count += 1\n"
   ]
  },
  {
   "cell_type": "code",
   "execution_count": 5,
   "id": "0f221a1c",
   "metadata": {},
   "outputs": [
    {
     "name": "stdout",
     "output_type": "stream",
     "text": [
      "Hello, Marshal!\n"
     ]
    }
   ],
   "source": [
    "def greet_user(username):\n",
    "    return f\"Hello, {username}!\"\n",
    "\n",
    "print(greet_user(\"Marshal\"))\n"
   ]
  },
  {
   "cell_type": "code",
   "execution_count": 6,
   "id": "29e5a1d1",
   "metadata": {},
   "outputs": [
    {
     "name": "stdout",
     "output_type": "stream",
     "text": [
      "Word count: 4\n"
     ]
    }
   ],
   "source": [
    "def word_counter(sentence):\n",
    "    words = sentence.split()\n",
    "    return len(words)\n",
    "\n",
    "sentence = \"Machine learning is awesome\"\n",
    "print(\"Word count:\", word_counter(sentence))\n"
   ]
  }
 ],
 "metadata": {
  "kernelspec": {
   "display_name": ".venv",
   "language": "python",
   "name": "python3"
  },
  "language_info": {
   "codemirror_mode": {
    "name": "ipython",
    "version": 3
   },
   "file_extension": ".py",
   "mimetype": "text/x-python",
   "name": "python",
   "nbconvert_exporter": "python",
   "pygments_lexer": "ipython3",
   "version": "3.12.10"
  }
 },
 "nbformat": 4,
 "nbformat_minor": 5
}
